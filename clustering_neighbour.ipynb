{
 "cells": [
  {
   "cell_type": "markdown",
   "metadata": {},
   "source": [
    "## Clustering Neighbourhood"
   ]
  },
  {
   "cell_type": "markdown",
   "metadata": {},
   "source": [
    "#### Import modeling"
   ]
  },
  {
   "cell_type": "code",
   "execution_count": 1,
   "metadata": {},
   "outputs": [],
   "source": [
    "import pandas as pd\n",
    "import numpy as np\n",
    "import requests\n",
    "from bs4 import BeautifulSoup\n",
    "import html5lib"
   ]
  },
  {
   "cell_type": "code",
   "execution_count": 2,
   "metadata": {},
   "outputs": [],
   "source": [
    "# Url of page to be scrapped\n",
    "url = \"https://en.wikipedia.org/wiki/List_of_postal_codes_of_Canada:_M\""
   ]
  },
  {
   "cell_type": "code",
   "execution_count": 3,
   "metadata": {},
   "outputs": [],
   "source": [
    "# Scrapping and storing in the html\n",
    "html = requests.get(url).text"
   ]
  },
  {
   "cell_type": "code",
   "execution_count": 4,
   "metadata": {},
   "outputs": [],
   "source": [
    "# Using BeautifulSoup\n",
    "soup = BeautifulSoup(html, \"html.parser\")"
   ]
  },
  {
   "cell_type": "code",
   "execution_count": 5,
   "metadata": {},
   "outputs": [],
   "source": [
    "# initializing the dictionary\n",
    "postal_codes_dict = dict()"
   ]
  },
  {
   "cell_type": "code",
   "execution_count": 6,
   "metadata": {},
   "outputs": [],
   "source": [
    "# Extarcting the table to get each table data\n",
    "count = 0\n",
    "for table_cell in soup.find_all('tr'):\n",
    "    try:\n",
    "        row = table_cell.text.split(\"\\n\")\n",
    "        postal_code = row[1] \n",
    "        if len(postal_code) != 3:\n",
    "            continue\n",
    "        borough = row[3]\n",
    "        neighbourhood = row[5]\n",
    "        if postal_code in postal_codes_dict.keys():\n",
    "            if borough.lower() != \"not Assigned\":\n",
    "                postal_codes_dict[postal_code][\"Neighborhood\"].append(neighbourhood)\n",
    "        else:\n",
    "            if borough.lower() != \"not assigned\":\n",
    "                postal_codes_dict[postal_code] = {}\n",
    "                postal_codes_dict[postal_code][\"Borough\"] = borough\n",
    "                postal_codes_dict[postal_code][\"Neighborhood\"]= [neighbourhood]\n",
    "    except:\n",
    "        pass"
   ]
  },
  {
   "cell_type": "code",
   "execution_count": 7,
   "metadata": {},
   "outputs": [
    {
     "data": {
      "text/plain": [
       "{'M3A': {'Borough': 'North York', 'Neighborhood': ['Parkwoods']},\n",
       " 'M4A': {'Borough': 'North York', 'Neighborhood': ['Victoria Village']},\n",
       " 'M5A': {'Borough': 'Downtown Toronto',\n",
       "  'Neighborhood': ['Regent Park, Harbourfront']},\n",
       " 'M6A': {'Borough': 'North York',\n",
       "  'Neighborhood': ['Lawrence Manor, Lawrence Heights']},\n",
       " 'M7A': {'Borough': 'Downtown Toronto',\n",
       "  'Neighborhood': [\"Queen's Park, Ontario Provincial Government\"]},\n",
       " 'M9A': {'Borough': 'Etobicoke', 'Neighborhood': ['Islington Avenue']},\n",
       " 'M1B': {'Borough': 'Scarborough', 'Neighborhood': ['Malvern, Rouge']},\n",
       " 'M3B': {'Borough': 'North York', 'Neighborhood': ['Don Mills']},\n",
       " 'M4B': {'Borough': 'East York',\n",
       "  'Neighborhood': ['Parkview Hill, Woodbine Gardens']},\n",
       " 'M5B': {'Borough': 'Downtown Toronto',\n",
       "  'Neighborhood': ['Garden District, Ryerson']},\n",
       " 'M6B': {'Borough': 'North York', 'Neighborhood': ['Glencairn']},\n",
       " 'M9B': {'Borough': 'Etobicoke',\n",
       "  'Neighborhood': ['West Deane Park, Princess Gardens, Martin Grove, Islington, Cloverdale']},\n",
       " 'M1C': {'Borough': 'Scarborough',\n",
       "  'Neighborhood': ['Rouge Hill, Port Union, Highland Creek']},\n",
       " 'M3C': {'Borough': 'North York', 'Neighborhood': ['Don Mills']},\n",
       " 'M4C': {'Borough': 'East York', 'Neighborhood': ['Woodbine Heights']},\n",
       " 'M5C': {'Borough': 'Downtown Toronto', 'Neighborhood': ['St. James Town']},\n",
       " 'M6C': {'Borough': 'York', 'Neighborhood': ['Humewood-Cedarvale']},\n",
       " 'M9C': {'Borough': 'Etobicoke',\n",
       "  'Neighborhood': ['Eringate, Bloordale Gardens, Old Burnhamthorpe, Markland Wood']},\n",
       " 'M1E': {'Borough': 'Scarborough',\n",
       "  'Neighborhood': ['Guildwood, Morningside, West Hill']},\n",
       " 'M4E': {'Borough': 'East Toronto', 'Neighborhood': ['The Beaches']},\n",
       " 'M5E': {'Borough': 'Downtown Toronto', 'Neighborhood': ['Berczy Park']},\n",
       " 'M6E': {'Borough': 'York', 'Neighborhood': ['Caledonia-Fairbanks']},\n",
       " 'M1G': {'Borough': 'Scarborough', 'Neighborhood': ['Woburn']},\n",
       " 'M4G': {'Borough': 'East York', 'Neighborhood': ['Leaside']},\n",
       " 'M5G': {'Borough': 'Downtown Toronto',\n",
       "  'Neighborhood': ['Central Bay Street']},\n",
       " 'M6G': {'Borough': 'Downtown Toronto', 'Neighborhood': ['Christie']},\n",
       " 'M1H': {'Borough': 'Scarborough', 'Neighborhood': ['Cedarbrae']},\n",
       " 'M2H': {'Borough': 'North York', 'Neighborhood': ['Hillcrest Village']},\n",
       " 'M3H': {'Borough': 'North York',\n",
       "  'Neighborhood': ['Bathurst Manor, Wilson Heights, Downsview North']},\n",
       " 'M4H': {'Borough': 'East York', 'Neighborhood': ['Thorncliffe Park']},\n",
       " 'M5H': {'Borough': 'Downtown Toronto',\n",
       "  'Neighborhood': ['Richmond, Adelaide, King']},\n",
       " 'M6H': {'Borough': 'West Toronto',\n",
       "  'Neighborhood': ['Dufferin, Dovercourt Village']},\n",
       " 'M1J': {'Borough': 'Scarborough', 'Neighborhood': ['Scarborough Village']},\n",
       " 'M2J': {'Borough': 'North York',\n",
       "  'Neighborhood': ['Fairview, Henry Farm, Oriole']},\n",
       " 'M3J': {'Borough': 'North York',\n",
       "  'Neighborhood': ['Northwood Park, York University']},\n",
       " 'M4J': {'Borough': 'East York', 'Neighborhood': ['East Toronto']},\n",
       " 'M5J': {'Borough': 'Downtown Toronto',\n",
       "  'Neighborhood': ['Harbourfront East, Union Station, Toronto Islands']},\n",
       " 'M6J': {'Borough': 'West Toronto',\n",
       "  'Neighborhood': ['Little Portugal, Trinity']},\n",
       " 'M1K': {'Borough': 'Scarborough',\n",
       "  'Neighborhood': ['Kennedy Park, Ionview, East Birchmount Park']},\n",
       " 'M2K': {'Borough': 'North York', 'Neighborhood': ['Bayview Village']},\n",
       " 'M3K': {'Borough': 'North York', 'Neighborhood': ['Downsview']},\n",
       " 'M4K': {'Borough': 'East Toronto',\n",
       "  'Neighborhood': ['The Danforth West, Riverdale']},\n",
       " 'M5K': {'Borough': 'Downtown Toronto',\n",
       "  'Neighborhood': ['Toronto Dominion Centre, Design Exchange']},\n",
       " 'M6K': {'Borough': 'West Toronto',\n",
       "  'Neighborhood': ['Brockton, Parkdale Village, Exhibition Place']},\n",
       " 'M1L': {'Borough': 'Scarborough',\n",
       "  'Neighborhood': ['Golden Mile, Clairlea, Oakridge']},\n",
       " 'M2L': {'Borough': 'North York',\n",
       "  'Neighborhood': ['York Mills, Silver Hills']},\n",
       " 'M3L': {'Borough': 'North York', 'Neighborhood': ['Downsview']},\n",
       " 'M4L': {'Borough': 'East Toronto',\n",
       "  'Neighborhood': ['India Bazaar, The Beaches West']},\n",
       " 'M5L': {'Borough': 'Downtown Toronto',\n",
       "  'Neighborhood': ['Commerce Court, Victoria Hotel']},\n",
       " 'M6L': {'Borough': 'North York',\n",
       "  'Neighborhood': ['North Park, Maple Leaf Park, Upwood Park']},\n",
       " 'M9L': {'Borough': 'North York', 'Neighborhood': ['Humber Summit']},\n",
       " 'M1M': {'Borough': 'Scarborough',\n",
       "  'Neighborhood': ['Cliffside, Cliffcrest, Scarborough Village West']},\n",
       " 'M2M': {'Borough': 'North York', 'Neighborhood': ['Willowdale, Newtonbrook']},\n",
       " 'M3M': {'Borough': 'North York', 'Neighborhood': ['Downsview']},\n",
       " 'M4M': {'Borough': 'East Toronto', 'Neighborhood': ['Studio District']},\n",
       " 'M5M': {'Borough': 'North York',\n",
       "  'Neighborhood': ['Bedford Park, Lawrence Manor East']},\n",
       " 'M6M': {'Borough': 'York',\n",
       "  'Neighborhood': ['Del Ray, Mount Dennis, Keelsdale and Silverthorn']},\n",
       " 'M9M': {'Borough': 'North York', 'Neighborhood': ['Humberlea, Emery']},\n",
       " 'M1N': {'Borough': 'Scarborough',\n",
       "  'Neighborhood': ['Birch Cliff, Cliffside West']},\n",
       " 'M2N': {'Borough': 'North York', 'Neighborhood': ['Willowdale']},\n",
       " 'M3N': {'Borough': 'North York', 'Neighborhood': ['Downsview']},\n",
       " 'M4N': {'Borough': 'Central Toronto', 'Neighborhood': ['Lawrence Park']},\n",
       " 'M5N': {'Borough': 'Central Toronto', 'Neighborhood': ['Roselawn']},\n",
       " 'M6N': {'Borough': 'York', 'Neighborhood': ['Runnymede, The Junction North']},\n",
       " 'M9N': {'Borough': 'York', 'Neighborhood': ['Weston']},\n",
       " 'M1P': {'Borough': 'Scarborough',\n",
       "  'Neighborhood': ['Dorset Park, Wexford Heights, Scarborough Town Centre']},\n",
       " 'M2P': {'Borough': 'North York', 'Neighborhood': ['York Mills West']},\n",
       " 'M4P': {'Borough': 'Central Toronto', 'Neighborhood': ['Davisville North']},\n",
       " 'M5P': {'Borough': 'Central Toronto',\n",
       "  'Neighborhood': ['Forest Hill North & West']},\n",
       " 'M6P': {'Borough': 'West Toronto',\n",
       "  'Neighborhood': ['High Park, The Junction South']},\n",
       " 'M9P': {'Borough': 'Etobicoke', 'Neighborhood': ['Westmount']},\n",
       " 'M1R': {'Borough': 'Scarborough', 'Neighborhood': ['Wexford, Maryvale']},\n",
       " 'M2R': {'Borough': 'North York', 'Neighborhood': ['Willowdale']},\n",
       " 'M4R': {'Borough': 'Central Toronto', 'Neighborhood': ['North Toronto West']},\n",
       " 'M5R': {'Borough': 'Central Toronto',\n",
       "  'Neighborhood': ['The Annex, North Midtown, Yorkville']},\n",
       " 'M6R': {'Borough': 'West Toronto',\n",
       "  'Neighborhood': ['Parkdale, Roncesvalles']},\n",
       " 'M7R': {'Borough': 'Mississauga',\n",
       "  'Neighborhood': ['Canada Post Gateway Processing Centre']},\n",
       " 'M9R': {'Borough': 'Etobicoke',\n",
       "  'Neighborhood': ['Kingsview Village, St. Phillips, Martin Grove Gardens, Richview Gardens']},\n",
       " 'M1S': {'Borough': 'Scarborough', 'Neighborhood': ['Agincourt']},\n",
       " 'M4S': {'Borough': 'Central Toronto', 'Neighborhood': ['Davisville']},\n",
       " 'M5S': {'Borough': 'Downtown Toronto',\n",
       "  'Neighborhood': ['University of Toronto, Harbord']},\n",
       " 'M6S': {'Borough': 'West Toronto', 'Neighborhood': ['Runnymede, Swansea']},\n",
       " 'M1T': {'Borough': 'Scarborough',\n",
       "  'Neighborhood': [\"Clarks Corners, Tam O'Shanter, Sullivan\"]},\n",
       " 'M4T': {'Borough': 'Central Toronto',\n",
       "  'Neighborhood': ['Moore Park, Summerhill East']},\n",
       " 'M5T': {'Borough': 'Downtown Toronto',\n",
       "  'Neighborhood': ['Kensington Market, Chinatown, Grange Park']},\n",
       " 'M1V': {'Borough': 'Scarborough',\n",
       "  'Neighborhood': [\"Milliken, Agincourt North, Steeles East, L'Amoreaux East\"]},\n",
       " 'M4V': {'Borough': 'Central Toronto',\n",
       "  'Neighborhood': ['Summerhill West, Rathnelly, South Hill, Forest Hill SE, Deer Park']},\n",
       " 'M5V': {'Borough': 'Downtown Toronto',\n",
       "  'Neighborhood': ['CN Tower, King and Spadina, Railway Lands, Harbourfront West, Bathurst Quay, South Niagara, Island airport']},\n",
       " 'M8V': {'Borough': 'Etobicoke',\n",
       "  'Neighborhood': ['New Toronto, Mimico South, Humber Bay Shores']},\n",
       " 'M9V': {'Borough': 'Etobicoke',\n",
       "  'Neighborhood': ['South Steeles, Silverstone, Humbergate, Jamestown, Mount Olive, Beaumond Heights, Thistletown, Albion Gardens']},\n",
       " 'M1W': {'Borough': 'Scarborough',\n",
       "  'Neighborhood': [\"Steeles West, L'Amoreaux West\"]},\n",
       " 'M4W': {'Borough': 'Downtown Toronto', 'Neighborhood': ['Rosedale']},\n",
       " 'M5W': {'Borough': 'Downtown Toronto', 'Neighborhood': ['Stn A PO Boxes']},\n",
       " 'M8W': {'Borough': 'Etobicoke', 'Neighborhood': ['Alderwood, Long Branch']},\n",
       " 'M9W': {'Borough': 'Etobicoke', 'Neighborhood': ['Northwest']},\n",
       " 'M1X': {'Borough': 'Scarborough', 'Neighborhood': ['Upper Rouge']},\n",
       " 'M4X': {'Borough': 'Downtown Toronto',\n",
       "  'Neighborhood': ['St. James Town, Cabbagetown']},\n",
       " 'M5X': {'Borough': 'Downtown Toronto',\n",
       "  'Neighborhood': ['First Canadian Place, Underground city']},\n",
       " 'M8X': {'Borough': 'Etobicoke',\n",
       "  'Neighborhood': ['The Kingsway, Montgomery Road, Old Mill North']},\n",
       " 'M4Y': {'Borough': 'Downtown Toronto',\n",
       "  'Neighborhood': ['Church and Wellesley']},\n",
       " 'M7Y': {'Borough': 'East Toronto',\n",
       "  'Neighborhood': ['Business reply mail Processing Centre']},\n",
       " 'M8Y': {'Borough': 'Etobicoke',\n",
       "  'Neighborhood': [\"Old Mill South, King's Mill Park, Sunnylea, Humber Bay, Mimico NE, The Queensway East, Royal York South East, Kingsway Park South East\"]},\n",
       " 'M8Z': {'Borough': 'Etobicoke',\n",
       "  'Neighborhood': ['Mimico NW, The Queensway West, South of Bloor, Kingsway Park South West, Royal York South West']}}"
      ]
     },
     "execution_count": 7,
     "metadata": {},
     "output_type": "execute_result"
    }
   ],
   "source": [
    "postal_codes_dict"
   ]
  },
  {
   "cell_type": "code",
   "execution_count": 8,
   "metadata": {},
   "outputs": [
    {
     "data": {
      "text/html": [
       "<div>\n",
       "<style scoped>\n",
       "    .dataframe tbody tr th:only-of-type {\n",
       "        vertical-align: middle;\n",
       "    }\n",
       "\n",
       "    .dataframe tbody tr th {\n",
       "        vertical-align: top;\n",
       "    }\n",
       "\n",
       "    .dataframe thead th {\n",
       "        text-align: right;\n",
       "    }\n",
       "</style>\n",
       "<table border=\"1\" class=\"dataframe\">\n",
       "  <thead>\n",
       "    <tr style=\"text-align: right;\">\n",
       "      <th></th>\n",
       "      <th>PostalCode</th>\n",
       "      <th>Borough</th>\n",
       "      <th>Neighborhood</th>\n",
       "    </tr>\n",
       "  </thead>\n",
       "  <tbody>\n",
       "  </tbody>\n",
       "</table>\n",
       "</div>"
      ],
      "text/plain": [
       "Empty DataFrame\n",
       "Columns: [PostalCode, Borough, Neighborhood]\n",
       "Index: []"
      ]
     },
     "execution_count": 8,
     "metadata": {},
     "output_type": "execute_result"
    }
   ],
   "source": [
    "columns = ['PostalCode', 'Borough', 'Neighborhood']\n",
    "toronto_data = pd.DataFrame(columns=columns)\n",
    "toronto_data"
   ]
  },
  {
   "cell_type": "code",
   "execution_count": 9,
   "metadata": {},
   "outputs": [],
   "source": [
    "for ind, postal_code in enumerate(postal_codes_dict):\n",
    "    borough = postal_codes_dict[postal_code]['Borough']\n",
    "    neighborhood = postal_codes_dict[postal_code]['Neighborhood']\n",
    "    toronto_data = toronto_data.append({\"PostalCode\": postal_code, \n",
    "                                        \"Borough\": borough, \n",
    "                                        \"Neighborhood\": neighborhood},\n",
    "                                        ignore_index=True)\n"
   ]
  },
  {
   "cell_type": "code",
   "execution_count": 10,
   "metadata": {},
   "outputs": [
    {
     "data": {
      "text/plain": [
       "103"
      ]
     },
     "execution_count": 10,
     "metadata": {},
     "output_type": "execute_result"
    }
   ],
   "source": [
    "toronto_data.shape[0]"
   ]
  },
  {
   "cell_type": "code",
   "execution_count": null,
   "metadata": {},
   "outputs": [],
   "source": []
  }
 ],
 "metadata": {
  "kernelspec": {
   "display_name": "Python 3",
   "language": "python",
   "name": "python3"
  },
  "language_info": {
   "codemirror_mode": {
    "name": "ipython",
    "version": 3
   },
   "file_extension": ".py",
   "mimetype": "text/x-python",
   "name": "python",
   "nbconvert_exporter": "python",
   "pygments_lexer": "ipython3",
   "version": "3.7.7"
  }
 },
 "nbformat": 4,
 "nbformat_minor": 4
}
