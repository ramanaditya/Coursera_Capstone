{
 "cells": [
  {
   "cell_type": "markdown",
   "metadata": {},
   "source": [
    "## Clustering Neighbourhood"
   ]
  },
  {
   "cell_type": "markdown",
   "metadata": {},
   "source": [
    "#### Import modeling"
   ]
  },
  {
   "cell_type": "code",
   "execution_count": 34,
   "metadata": {},
   "outputs": [],
   "source": [
    "import pandas as pd\n",
    "import numpy as np\n",
    "import requests\n",
    "from bs4 import BeautifulSoup\n",
    "import html5lib\n",
    "\n",
    "import geopy"
   ]
  },
  {
   "cell_type": "code",
   "execution_count": 35,
   "metadata": {},
   "outputs": [],
   "source": [
    "# Url of page to be scrapped\n",
    "url = \"https://en.wikipedia.org/wiki/List_of_postal_codes_of_Canada:_M\""
   ]
  },
  {
   "cell_type": "code",
   "execution_count": 36,
   "metadata": {},
   "outputs": [],
   "source": [
    "# Scrapping and storing in the html\n",
    "html = requests.get(url).text"
   ]
  },
  {
   "cell_type": "code",
   "execution_count": 37,
   "metadata": {},
   "outputs": [],
   "source": [
    "# Using BeautifulSoup\n",
    "soup = BeautifulSoup(html, \"html.parser\")"
   ]
  },
  {
   "cell_type": "code",
   "execution_count": 38,
   "metadata": {},
   "outputs": [],
   "source": [
    "# initializing the dictionary\n",
    "postal_codes_dict = dict()"
   ]
  },
  {
   "cell_type": "code",
   "execution_count": 39,
   "metadata": {},
   "outputs": [],
   "source": [
    "# Extarcting the table to get each table data\n",
    "count = 0\n",
    "for table_cell in soup.find_all('tr'):\n",
    "    try:\n",
    "        row = table_cell.text.split(\"\\n\")\n",
    "        postal_code = row[1] \n",
    "        if len(postal_code) != 3:\n",
    "            continue\n",
    "        borough = row[3]\n",
    "        neighbourhood = row[5]\n",
    "        if postal_code in postal_codes_dict.keys():\n",
    "            if borough.lower() != \"not Assigned\":\n",
    "                postal_codes_dict[postal_code][\"Neighborhood\"].append(neighbourhood)\n",
    "        else:\n",
    "            if borough.lower() != \"not assigned\":\n",
    "                postal_codes_dict[postal_code] = {}\n",
    "                postal_codes_dict[postal_code][\"Borough\"] = borough\n",
    "                postal_codes_dict[postal_code][\"Neighborhood\"]= [neighbourhood]\n",
    "    except:\n",
    "        pass"
   ]
  },
  {
   "cell_type": "code",
   "execution_count": 40,
   "metadata": {},
   "outputs": [],
   "source": [
    "# postal_codes_dict"
   ]
  },
  {
   "cell_type": "code",
   "execution_count": 41,
   "metadata": {},
   "outputs": [
    {
     "data": {
      "text/html": [
       "<div>\n",
       "<style scoped>\n",
       "    .dataframe tbody tr th:only-of-type {\n",
       "        vertical-align: middle;\n",
       "    }\n",
       "\n",
       "    .dataframe tbody tr th {\n",
       "        vertical-align: top;\n",
       "    }\n",
       "\n",
       "    .dataframe thead th {\n",
       "        text-align: right;\n",
       "    }\n",
       "</style>\n",
       "<table border=\"1\" class=\"dataframe\">\n",
       "  <thead>\n",
       "    <tr style=\"text-align: right;\">\n",
       "      <th></th>\n",
       "      <th>PostalCode</th>\n",
       "      <th>Borough</th>\n",
       "      <th>Neighborhood</th>\n",
       "    </tr>\n",
       "  </thead>\n",
       "  <tbody>\n",
       "  </tbody>\n",
       "</table>\n",
       "</div>"
      ],
      "text/plain": [
       "Empty DataFrame\n",
       "Columns: [PostalCode, Borough, Neighborhood]\n",
       "Index: []"
      ]
     },
     "execution_count": 41,
     "metadata": {},
     "output_type": "execute_result"
    }
   ],
   "source": [
    "columns = ['PostalCode', 'Borough', 'Neighborhood']\n",
    "toronto_data = pd.DataFrame(columns=columns)\n",
    "toronto_data"
   ]
  },
  {
   "cell_type": "code",
   "execution_count": 42,
   "metadata": {},
   "outputs": [],
   "source": [
    "for ind, postal_code in enumerate(postal_codes_dict):\n",
    "    borough = postal_codes_dict[postal_code]['Borough']\n",
    "    neighborhood = postal_codes_dict[postal_code]['Neighborhood']\n",
    "    toronto_data = toronto_data.append({\"PostalCode\": postal_code, \n",
    "                                        \"Borough\": borough, \n",
    "                                        \"Neighborhood\": neighborhood},\n",
    "                                        ignore_index=True)\n"
   ]
  },
  {
   "cell_type": "code",
   "execution_count": 43,
   "metadata": {},
   "outputs": [
    {
     "data": {
      "text/plain": [
       "103"
      ]
     },
     "execution_count": 43,
     "metadata": {},
     "output_type": "execute_result"
    }
   ],
   "source": [
    "toronto_data.shape[0]"
   ]
  },
  {
   "cell_type": "markdown",
   "metadata": {},
   "source": [
    "# Part - 2"
   ]
  },
  {
   "cell_type": "code",
   "execution_count": 44,
   "metadata": {},
   "outputs": [],
   "source": [
    "CSV_FILE = \"Geospatial_Coordinates.csv\""
   ]
  },
  {
   "cell_type": "code",
   "execution_count": 45,
   "metadata": {},
   "outputs": [],
   "source": [
    "csv_file = pd.read_csv(CSV_FILE)"
   ]
  },
  {
   "cell_type": "code",
   "execution_count": 46,
   "metadata": {},
   "outputs": [],
   "source": [
    "df_geo = pd.merge(toronto_data,csv_file,left_on='PostalCode', right_on='Postal Code', how='left')\n",
    "df_geo = df_geo.drop('Postal Code', axis=1)"
   ]
  },
  {
   "cell_type": "code",
   "execution_count": 47,
   "metadata": {},
   "outputs": [
    {
     "data": {
      "text/html": [
       "<div>\n",
       "<style scoped>\n",
       "    .dataframe tbody tr th:only-of-type {\n",
       "        vertical-align: middle;\n",
       "    }\n",
       "\n",
       "    .dataframe tbody tr th {\n",
       "        vertical-align: top;\n",
       "    }\n",
       "\n",
       "    .dataframe thead th {\n",
       "        text-align: right;\n",
       "    }\n",
       "</style>\n",
       "<table border=\"1\" class=\"dataframe\">\n",
       "  <thead>\n",
       "    <tr style=\"text-align: right;\">\n",
       "      <th></th>\n",
       "      <th>PostalCode</th>\n",
       "      <th>Borough</th>\n",
       "      <th>Neighborhood</th>\n",
       "      <th>Latitude</th>\n",
       "      <th>Longitude</th>\n",
       "    </tr>\n",
       "  </thead>\n",
       "  <tbody>\n",
       "    <tr>\n",
       "      <th>0</th>\n",
       "      <td>M3A</td>\n",
       "      <td>North York</td>\n",
       "      <td>[Parkwoods]</td>\n",
       "      <td>43.753259</td>\n",
       "      <td>-79.329656</td>\n",
       "    </tr>\n",
       "    <tr>\n",
       "      <th>1</th>\n",
       "      <td>M4A</td>\n",
       "      <td>North York</td>\n",
       "      <td>[Victoria Village]</td>\n",
       "      <td>43.725882</td>\n",
       "      <td>-79.315572</td>\n",
       "    </tr>\n",
       "    <tr>\n",
       "      <th>2</th>\n",
       "      <td>M5A</td>\n",
       "      <td>Downtown Toronto</td>\n",
       "      <td>[Regent Park, Harbourfront]</td>\n",
       "      <td>43.654260</td>\n",
       "      <td>-79.360636</td>\n",
       "    </tr>\n",
       "    <tr>\n",
       "      <th>3</th>\n",
       "      <td>M6A</td>\n",
       "      <td>North York</td>\n",
       "      <td>[Lawrence Manor, Lawrence Heights]</td>\n",
       "      <td>43.718518</td>\n",
       "      <td>-79.464763</td>\n",
       "    </tr>\n",
       "    <tr>\n",
       "      <th>4</th>\n",
       "      <td>M7A</td>\n",
       "      <td>Downtown Toronto</td>\n",
       "      <td>[Queen's Park, Ontario Provincial Government]</td>\n",
       "      <td>43.662301</td>\n",
       "      <td>-79.389494</td>\n",
       "    </tr>\n",
       "    <tr>\n",
       "      <th>5</th>\n",
       "      <td>M9A</td>\n",
       "      <td>Etobicoke</td>\n",
       "      <td>[Islington Avenue]</td>\n",
       "      <td>43.667856</td>\n",
       "      <td>-79.532242</td>\n",
       "    </tr>\n",
       "    <tr>\n",
       "      <th>6</th>\n",
       "      <td>M1B</td>\n",
       "      <td>Scarborough</td>\n",
       "      <td>[Malvern, Rouge]</td>\n",
       "      <td>43.806686</td>\n",
       "      <td>-79.194353</td>\n",
       "    </tr>\n",
       "    <tr>\n",
       "      <th>7</th>\n",
       "      <td>M3B</td>\n",
       "      <td>North York</td>\n",
       "      <td>[Don Mills]</td>\n",
       "      <td>43.745906</td>\n",
       "      <td>-79.352188</td>\n",
       "    </tr>\n",
       "    <tr>\n",
       "      <th>8</th>\n",
       "      <td>M4B</td>\n",
       "      <td>East York</td>\n",
       "      <td>[Parkview Hill, Woodbine Gardens]</td>\n",
       "      <td>43.706397</td>\n",
       "      <td>-79.309937</td>\n",
       "    </tr>\n",
       "    <tr>\n",
       "      <th>9</th>\n",
       "      <td>M5B</td>\n",
       "      <td>Downtown Toronto</td>\n",
       "      <td>[Garden District, Ryerson]</td>\n",
       "      <td>43.657162</td>\n",
       "      <td>-79.378937</td>\n",
       "    </tr>\n",
       "  </tbody>\n",
       "</table>\n",
       "</div>"
      ],
      "text/plain": [
       "  PostalCode           Borough                                   Neighborhood  \\\n",
       "0        M3A        North York                                    [Parkwoods]   \n",
       "1        M4A        North York                             [Victoria Village]   \n",
       "2        M5A  Downtown Toronto                    [Regent Park, Harbourfront]   \n",
       "3        M6A        North York             [Lawrence Manor, Lawrence Heights]   \n",
       "4        M7A  Downtown Toronto  [Queen's Park, Ontario Provincial Government]   \n",
       "5        M9A         Etobicoke                             [Islington Avenue]   \n",
       "6        M1B       Scarborough                               [Malvern, Rouge]   \n",
       "7        M3B        North York                                    [Don Mills]   \n",
       "8        M4B         East York              [Parkview Hill, Woodbine Gardens]   \n",
       "9        M5B  Downtown Toronto                     [Garden District, Ryerson]   \n",
       "\n",
       "    Latitude  Longitude  \n",
       "0  43.753259 -79.329656  \n",
       "1  43.725882 -79.315572  \n",
       "2  43.654260 -79.360636  \n",
       "3  43.718518 -79.464763  \n",
       "4  43.662301 -79.389494  \n",
       "5  43.667856 -79.532242  \n",
       "6  43.806686 -79.194353  \n",
       "7  43.745906 -79.352188  \n",
       "8  43.706397 -79.309937  \n",
       "9  43.657162 -79.378937  "
      ]
     },
     "execution_count": 47,
     "metadata": {},
     "output_type": "execute_result"
    }
   ],
   "source": [
    "df_geo.head(10)"
   ]
  },
  {
   "cell_type": "code",
   "execution_count": null,
   "metadata": {},
   "outputs": [],
   "source": [
    "\n"
   ]
  },
  {
   "cell_type": "markdown",
   "metadata": {},
   "source": [
    "# Part - 3"
   ]
  },
  {
   "cell_type": "code",
   "execution_count": 51,
   "metadata": {},
   "outputs": [
    {
     "name": "stdout",
     "output_type": "stream",
     "text": [
      "The geograpical coordinate of Toronto are 43.6534817, -79.3839347.\n"
     ]
    }
   ],
   "source": [
    "city = \"Toronto\"\n",
    "\n",
    "geolocator = geopy.Nominatim(user_agent=\"ny_explorer\")\n",
    "location = geolocator.geocode(city)\n",
    "latitude = location.latitude\n",
    "longitude = location.longitude\n",
    "print('The geograpical coordinate of Toronto are {}, {}.'.format(latitude, longitude))"
   ]
  },
  {
   "cell_type": "markdown",
   "metadata": {},
   "source": [
    "## Creating a map with Toronto neighborhoods"
   ]
  },
  {
   "cell_type": "code",
   "execution_count": 59,
   "metadata": {},
   "outputs": [
    {
     "data": {
      "text/html": [
       "<div style=\"width:100%;\"><div style=\"position:relative;width:100%;height:0;padding-bottom:60%;\"><span style=\"color:#565656\">Make this Notebook Trusted to load map: File -> Trust Notebook</span><iframe src=\"about:blank\" style=\"position:absolute;width:100%;height:100%;left:0;top:0;border:none !important;\" data-html=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 onload=\"this.contentDocument.open();this.contentDocument.write(atob(this.getAttribute('data-html')));this.contentDocument.close();\" allowfullscreen webkitallowfullscreen mozallowfullscreen></iframe></div></div>"
      ],
      "text/plain": [
       "<folium.folium.Map at 0x114ed8850>"
      ]
     },
     "execution_count": 59,
     "metadata": {},
     "output_type": "execute_result"
    }
   ],
   "source": [
    "import folium\n",
    "map_toronto = folium.Map(location=[latitude, longitude], zoom_start=10)\n",
    "\n",
    "# add markers to map\n",
    "for lat, lng, borough, neighborhood in zip(df_geo['Latitude'], df_geo['Longitude'], df_geo['Borough'], df_geo['Neighborhood']):\n",
    "    label = '{}, {}'.format(neighborhood, borough)\n",
    "    label = folium.Popup(label, parse_html=True)\n",
    "    folium.CircleMarker(\n",
    "        [lat, lng],\n",
    "        radius=5,\n",
    "        popup=label,\n",
    "        color='blue',\n",
    "        fill=True,\n",
    "        fill_color='#3186cc',\n",
    "        fill_opacity=0.7,\n",
    "        parse_html=False).add_to(map_toronto)  \n",
    "    \n",
    "map_toronto"
   ]
  },
  {
   "cell_type": "markdown",
   "metadata": {},
   "source": [
    "## Downtown Toronto looks central. Let's filter the dataframe on this neighborhood"
   ]
  },
  {
   "cell_type": "code",
   "execution_count": 60,
   "metadata": {},
   "outputs": [
    {
     "data": {
      "text/plain": [
       "PostalCode      19\n",
       "Borough         19\n",
       "Neighborhood    19\n",
       "Latitude        19\n",
       "Longitude       19\n",
       "dtype: int64"
      ]
     },
     "execution_count": 60,
     "metadata": {},
     "output_type": "execute_result"
    }
   ],
   "source": [
    "toronto_data = df_geo[df_geo['Borough'] == 'Downtown Toronto'].reset_index(drop=True)\n",
    "toronto_data.count()"
   ]
  },
  {
   "cell_type": "code",
   "execution_count": 61,
   "metadata": {},
   "outputs": [
    {
     "data": {
      "text/html": [
       "<div>\n",
       "<style scoped>\n",
       "    .dataframe tbody tr th:only-of-type {\n",
       "        vertical-align: middle;\n",
       "    }\n",
       "\n",
       "    .dataframe tbody tr th {\n",
       "        vertical-align: top;\n",
       "    }\n",
       "\n",
       "    .dataframe thead th {\n",
       "        text-align: right;\n",
       "    }\n",
       "</style>\n",
       "<table border=\"1\" class=\"dataframe\">\n",
       "  <thead>\n",
       "    <tr style=\"text-align: right;\">\n",
       "      <th></th>\n",
       "      <th>PostalCode</th>\n",
       "      <th>Borough</th>\n",
       "      <th>Neighborhood</th>\n",
       "      <th>Latitude</th>\n",
       "      <th>Longitude</th>\n",
       "    </tr>\n",
       "  </thead>\n",
       "  <tbody>\n",
       "    <tr>\n",
       "      <th>0</th>\n",
       "      <td>M5A</td>\n",
       "      <td>Downtown Toronto</td>\n",
       "      <td>[Regent Park, Harbourfront]</td>\n",
       "      <td>43.654260</td>\n",
       "      <td>-79.360636</td>\n",
       "    </tr>\n",
       "    <tr>\n",
       "      <th>1</th>\n",
       "      <td>M7A</td>\n",
       "      <td>Downtown Toronto</td>\n",
       "      <td>[Queen's Park, Ontario Provincial Government]</td>\n",
       "      <td>43.662301</td>\n",
       "      <td>-79.389494</td>\n",
       "    </tr>\n",
       "    <tr>\n",
       "      <th>2</th>\n",
       "      <td>M5B</td>\n",
       "      <td>Downtown Toronto</td>\n",
       "      <td>[Garden District, Ryerson]</td>\n",
       "      <td>43.657162</td>\n",
       "      <td>-79.378937</td>\n",
       "    </tr>\n",
       "    <tr>\n",
       "      <th>3</th>\n",
       "      <td>M5C</td>\n",
       "      <td>Downtown Toronto</td>\n",
       "      <td>[St. James Town]</td>\n",
       "      <td>43.651494</td>\n",
       "      <td>-79.375418</td>\n",
       "    </tr>\n",
       "    <tr>\n",
       "      <th>4</th>\n",
       "      <td>M5E</td>\n",
       "      <td>Downtown Toronto</td>\n",
       "      <td>[Berczy Park]</td>\n",
       "      <td>43.644771</td>\n",
       "      <td>-79.373306</td>\n",
       "    </tr>\n",
       "  </tbody>\n",
       "</table>\n",
       "</div>"
      ],
      "text/plain": [
       "  PostalCode           Borough                                   Neighborhood  \\\n",
       "0        M5A  Downtown Toronto                    [Regent Park, Harbourfront]   \n",
       "1        M7A  Downtown Toronto  [Queen's Park, Ontario Provincial Government]   \n",
       "2        M5B  Downtown Toronto                     [Garden District, Ryerson]   \n",
       "3        M5C  Downtown Toronto                               [St. James Town]   \n",
       "4        M5E  Downtown Toronto                                  [Berczy Park]   \n",
       "\n",
       "    Latitude  Longitude  \n",
       "0  43.654260 -79.360636  \n",
       "1  43.662301 -79.389494  \n",
       "2  43.657162 -79.378937  \n",
       "3  43.651494 -79.375418  \n",
       "4  43.644771 -79.373306  "
      ]
     },
     "execution_count": 61,
     "metadata": {},
     "output_type": "execute_result"
    }
   ],
   "source": [
    "toronto_data.head()"
   ]
  },
  {
   "cell_type": "code",
   "execution_count": 90,
   "metadata": {},
   "outputs": [
    {
     "data": {
      "text/plain": [
       "'https://api.foursquare.com/v2/venues/explore?&client_id=T1J2MTIOSV44A450M1ZYJTBAMTZTMA4UHFQ5BPCE20P1CLDV&client_secret=M1ZJC0KIIR3DQVQN5RPKSRCDWIJ3BZXJBNMS3FAZXR4R4KHT&v=20180605&ll=43.6534817,-79.3839347&radius=1000&limit=200'"
      ]
     },
     "execution_count": 90,
     "metadata": {},
     "output_type": "execute_result"
    }
   ],
   "source": [
    "CLIENT_ID = 'T1J2MTIOSV44A450M1ZYJTBAMTZTMA4UHFQ5BPCE20P1CLDV' \n",
    "CLIENT_SECRET = 'M1ZJC0KIIR3DQVQN5RPKSRCDWIJ3BZXJBNMS3FAZXR4R4KHT'\n",
    "VERSION = '20180605' # Foursquare API version\n",
    "\n",
    "LIMIT = 200\n",
    "radius = 1000\n",
    "url = 'https://api.foursquare.com/v2/venues/explore?&client_id={}&client_secret={}&v={}&ll={},{}&radius={}&limit={}'.format(\n",
    "    CLIENT_ID, \n",
    "    CLIENT_SECRET, \n",
    "    VERSION, \n",
    "    latitude, \n",
    "    longitude, \n",
    "    radius, \n",
    "    LIMIT)\n",
    "url"
   ]
  },
  {
   "cell_type": "code",
   "execution_count": 94,
   "metadata": {},
   "outputs": [
    {
     "name": "stdout",
     "output_type": "stream",
     "text": [
      "Regent Park, Harbourfront\n"
     ]
    }
   ],
   "source": [
    "def getNearbyVenues(names, latitudes, longitudes, radius=500):\n",
    "    \n",
    "    venues_list=[]\n",
    "    for name, lat, lng in zip(names[0], latitudes, longitudes):\n",
    "        print(name)\n",
    "            \n",
    "        # create the API request URL\n",
    "        url = 'https://api.foursquare.com/v2/venues/explore?&client_id={}&client_secret={}&v={}&ll={},{}&radius={}&limit={}'.format(\n",
    "            CLIENT_ID, \n",
    "            CLIENT_SECRET, \n",
    "            VERSION, \n",
    "            lat, \n",
    "            lng, \n",
    "            radius, \n",
    "            LIMIT)\n",
    "            \n",
    "        # make the GET request\n",
    "        results = requests.get(url).json()[\"response\"]['groups'][0]['items']\n",
    "        # return only relevant information for each nearby venue\n",
    "        venues_list.append([(\n",
    "            name, \n",
    "            lat, \n",
    "            lng, \n",
    "            v['venue']['name'], \n",
    "            v['venue']['location']['lat'], \n",
    "            v['venue']['location']['lng'],  \n",
    "            v['venue']['categories'][0]['name']) for v in results])\n",
    "\n",
    "    nearby_venues = pd.DataFrame([item for venue_list in venues_list for item in venue_list])\n",
    "    nearby_venues.columns = ['Neighborhood', \n",
    "                  'Neighborhood Latitude', \n",
    "                  'Neighborhood Longitude', \n",
    "                  'Venue', \n",
    "                  'Venue Latitude', \n",
    "                  'Venue Longitude', \n",
    "                  'Venue Category']\n",
    "    \n",
    "    return(nearby_venues)\n",
    "\n",
    "# type your answer here\n",
    "\n",
    "toronto_venues = getNearbyVenues(names=toronto_data['Neighborhood'],\n",
    "                                   latitudes=toronto_data['Latitude'],\n",
    "                                   longitudes=toronto_data['Longitude']\n",
    "                                  )\n"
   ]
  },
  {
   "cell_type": "code",
   "execution_count": 95,
   "metadata": {},
   "outputs": [
    {
     "name": "stdout",
     "output_type": "stream",
     "text": [
      "48 venues were returned by Foursquare.\n"
     ]
    },
    {
     "data": {
      "text/html": [
       "<div>\n",
       "<style scoped>\n",
       "    .dataframe tbody tr th:only-of-type {\n",
       "        vertical-align: middle;\n",
       "    }\n",
       "\n",
       "    .dataframe tbody tr th {\n",
       "        vertical-align: top;\n",
       "    }\n",
       "\n",
       "    .dataframe thead th {\n",
       "        text-align: right;\n",
       "    }\n",
       "</style>\n",
       "<table border=\"1\" class=\"dataframe\">\n",
       "  <thead>\n",
       "    <tr style=\"text-align: right;\">\n",
       "      <th></th>\n",
       "      <th>Neighborhood</th>\n",
       "      <th>Neighborhood Latitude</th>\n",
       "      <th>Neighborhood Longitude</th>\n",
       "      <th>Venue</th>\n",
       "      <th>Venue Latitude</th>\n",
       "      <th>Venue Longitude</th>\n",
       "      <th>Venue Category</th>\n",
       "    </tr>\n",
       "  </thead>\n",
       "  <tbody>\n",
       "    <tr>\n",
       "      <th>0</th>\n",
       "      <td>Regent Park, Harbourfront</td>\n",
       "      <td>43.65426</td>\n",
       "      <td>-79.360636</td>\n",
       "      <td>Roselle Desserts</td>\n",
       "      <td>43.653447</td>\n",
       "      <td>-79.362017</td>\n",
       "      <td>Bakery</td>\n",
       "    </tr>\n",
       "    <tr>\n",
       "      <th>1</th>\n",
       "      <td>Regent Park, Harbourfront</td>\n",
       "      <td>43.65426</td>\n",
       "      <td>-79.360636</td>\n",
       "      <td>Tandem Coffee</td>\n",
       "      <td>43.653559</td>\n",
       "      <td>-79.361809</td>\n",
       "      <td>Coffee Shop</td>\n",
       "    </tr>\n",
       "    <tr>\n",
       "      <th>2</th>\n",
       "      <td>Regent Park, Harbourfront</td>\n",
       "      <td>43.65426</td>\n",
       "      <td>-79.360636</td>\n",
       "      <td>Morning Glory Cafe</td>\n",
       "      <td>43.653947</td>\n",
       "      <td>-79.361149</td>\n",
       "      <td>Breakfast Spot</td>\n",
       "    </tr>\n",
       "    <tr>\n",
       "      <th>3</th>\n",
       "      <td>Regent Park, Harbourfront</td>\n",
       "      <td>43.65426</td>\n",
       "      <td>-79.360636</td>\n",
       "      <td>Cooper Koo Family YMCA</td>\n",
       "      <td>43.653249</td>\n",
       "      <td>-79.358008</td>\n",
       "      <td>Distribution Center</td>\n",
       "    </tr>\n",
       "    <tr>\n",
       "      <th>4</th>\n",
       "      <td>Regent Park, Harbourfront</td>\n",
       "      <td>43.65426</td>\n",
       "      <td>-79.360636</td>\n",
       "      <td>Body Blitz Spa East</td>\n",
       "      <td>43.654735</td>\n",
       "      <td>-79.359874</td>\n",
       "      <td>Spa</td>\n",
       "    </tr>\n",
       "  </tbody>\n",
       "</table>\n",
       "</div>"
      ],
      "text/plain": [
       "                Neighborhood  Neighborhood Latitude  Neighborhood Longitude  \\\n",
       "0  Regent Park, Harbourfront               43.65426              -79.360636   \n",
       "1  Regent Park, Harbourfront               43.65426              -79.360636   \n",
       "2  Regent Park, Harbourfront               43.65426              -79.360636   \n",
       "3  Regent Park, Harbourfront               43.65426              -79.360636   \n",
       "4  Regent Park, Harbourfront               43.65426              -79.360636   \n",
       "\n",
       "                    Venue  Venue Latitude  Venue Longitude  \\\n",
       "0        Roselle Desserts       43.653447       -79.362017   \n",
       "1           Tandem Coffee       43.653559       -79.361809   \n",
       "2      Morning Glory Cafe       43.653947       -79.361149   \n",
       "3  Cooper Koo Family YMCA       43.653249       -79.358008   \n",
       "4     Body Blitz Spa East       43.654735       -79.359874   \n",
       "\n",
       "        Venue Category  \n",
       "0               Bakery  \n",
       "1          Coffee Shop  \n",
       "2       Breakfast Spot  \n",
       "3  Distribution Center  \n",
       "4                  Spa  "
      ]
     },
     "execution_count": 95,
     "metadata": {},
     "output_type": "execute_result"
    }
   ],
   "source": [
    "print('{} venues were returned by Foursquare.'.format(toronto_venues.shape[0]))\n",
    "toronto_venues.head()"
   ]
  },
  {
   "cell_type": "code",
   "execution_count": 97,
   "metadata": {},
   "outputs": [
    {
     "name": "stdout",
     "output_type": "stream",
     "text": [
      "                           Neighborhood Latitude  Neighborhood Longitude  \\\n",
      "Neighborhood                                                               \n",
      "Regent Park, Harbourfront                     48                      48   \n",
      "\n",
      "                           Venue  Venue Latitude  Venue Longitude  \\\n",
      "Neighborhood                                                        \n",
      "Regent Park, Harbourfront     48              48               48   \n",
      "\n",
      "                           Venue Category  \n",
      "Neighborhood                               \n",
      "Regent Park, Harbourfront              48  \n"
     ]
    }
   ],
   "source": [
    "# Check for venues returned for each neighbourhood\n",
    "x = toronto_venues.groupby(\"Neighborhood\").count()\n",
    "print(x)"
   ]
  },
  {
   "cell_type": "code",
   "execution_count": 98,
   "metadata": {},
   "outputs": [
    {
     "data": {
      "text/plain": [
       "(48, 32)"
      ]
     },
     "execution_count": 98,
     "metadata": {},
     "output_type": "execute_result"
    }
   ],
   "source": [
    "# one hot encoding\n",
    "toronto_onehot = pd.get_dummies(toronto_venues[['Venue Category']], prefix=\"\", prefix_sep=\"\")\n",
    "\n",
    "# add neighborhood column back to dataframe\n",
    "toronto_onehot['Neighborhood'] = toronto_venues['Neighborhood'] \n",
    "\n",
    "# move neighborhood column to the first column\n",
    "fixed_columns = [toronto_onehot.columns[-1]] + list(toronto_onehot.columns[:-1])\n",
    "toronto_onehot = toronto_onehot[fixed_columns]\n",
    "toronto_onehot.shape"
   ]
  },
  {
   "cell_type": "code",
   "execution_count": 99,
   "metadata": {},
   "outputs": [
    {
     "data": {
      "text/html": [
       "<div>\n",
       "<style scoped>\n",
       "    .dataframe tbody tr th:only-of-type {\n",
       "        vertical-align: middle;\n",
       "    }\n",
       "\n",
       "    .dataframe tbody tr th {\n",
       "        vertical-align: top;\n",
       "    }\n",
       "\n",
       "    .dataframe thead th {\n",
       "        text-align: right;\n",
       "    }\n",
       "</style>\n",
       "<table border=\"1\" class=\"dataframe\">\n",
       "  <thead>\n",
       "    <tr style=\"text-align: right;\">\n",
       "      <th></th>\n",
       "      <th>Neighborhood</th>\n",
       "      <th>Antique Shop</th>\n",
       "      <th>Art Gallery</th>\n",
       "      <th>Asian Restaurant</th>\n",
       "      <th>Bakery</th>\n",
       "      <th>Bank</th>\n",
       "      <th>Beer Store</th>\n",
       "      <th>Breakfast Spot</th>\n",
       "      <th>Café</th>\n",
       "      <th>Chocolate Shop</th>\n",
       "      <th>...</th>\n",
       "      <th>Ice Cream Shop</th>\n",
       "      <th>Mexican Restaurant</th>\n",
       "      <th>Park</th>\n",
       "      <th>Performing Arts Venue</th>\n",
       "      <th>Pub</th>\n",
       "      <th>Restaurant</th>\n",
       "      <th>Shoe Store</th>\n",
       "      <th>Spa</th>\n",
       "      <th>Theater</th>\n",
       "      <th>Yoga Studio</th>\n",
       "    </tr>\n",
       "  </thead>\n",
       "  <tbody>\n",
       "    <tr>\n",
       "      <th>0</th>\n",
       "      <td>Regent Park, Harbourfront</td>\n",
       "      <td>0.020833</td>\n",
       "      <td>0.020833</td>\n",
       "      <td>0.020833</td>\n",
       "      <td>0.0625</td>\n",
       "      <td>0.020833</td>\n",
       "      <td>0.020833</td>\n",
       "      <td>0.041667</td>\n",
       "      <td>0.041667</td>\n",
       "      <td>0.020833</td>\n",
       "      <td>...</td>\n",
       "      <td>0.020833</td>\n",
       "      <td>0.020833</td>\n",
       "      <td>0.0625</td>\n",
       "      <td>0.020833</td>\n",
       "      <td>0.0625</td>\n",
       "      <td>0.041667</td>\n",
       "      <td>0.020833</td>\n",
       "      <td>0.020833</td>\n",
       "      <td>0.041667</td>\n",
       "      <td>0.020833</td>\n",
       "    </tr>\n",
       "  </tbody>\n",
       "</table>\n",
       "<p>1 rows × 32 columns</p>\n",
       "</div>"
      ],
      "text/plain": [
       "                Neighborhood  Antique Shop  Art Gallery  Asian Restaurant  \\\n",
       "0  Regent Park, Harbourfront      0.020833     0.020833          0.020833   \n",
       "\n",
       "   Bakery      Bank  Beer Store  Breakfast Spot      Café  Chocolate Shop  \\\n",
       "0  0.0625  0.020833    0.020833        0.041667  0.041667        0.020833   \n",
       "\n",
       "   ...  Ice Cream Shop  Mexican Restaurant    Park  Performing Arts Venue  \\\n",
       "0  ...        0.020833            0.020833  0.0625               0.020833   \n",
       "\n",
       "      Pub  Restaurant  Shoe Store       Spa   Theater  Yoga Studio  \n",
       "0  0.0625    0.041667    0.020833  0.020833  0.041667     0.020833  \n",
       "\n",
       "[1 rows x 32 columns]"
      ]
     },
     "execution_count": 99,
     "metadata": {},
     "output_type": "execute_result"
    }
   ],
   "source": [
    "toronto_grouped = toronto_onehot.groupby('Neighborhood').mean().reset_index()\n",
    "toronto_grouped"
   ]
  },
  {
   "cell_type": "code",
   "execution_count": 100,
   "metadata": {},
   "outputs": [
    {
     "data": {
      "text/plain": [
       "(1, 32)"
      ]
     },
     "execution_count": 100,
     "metadata": {},
     "output_type": "execute_result"
    }
   ],
   "source": [
    "toronto_grouped.shape\n"
   ]
  },
  {
   "cell_type": "code",
   "execution_count": null,
   "metadata": {},
   "outputs": [],
   "source": []
  },
  {
   "cell_type": "code",
   "execution_count": null,
   "metadata": {},
   "outputs": [],
   "source": []
  }
 ],
 "metadata": {
  "kernelspec": {
   "display_name": "Python 3",
   "language": "python",
   "name": "python3"
  },
  "language_info": {
   "codemirror_mode": {
    "name": "ipython",
    "version": 3
   },
   "file_extension": ".py",
   "mimetype": "text/x-python",
   "name": "python",
   "nbconvert_exporter": "python",
   "pygments_lexer": "ipython3",
   "version": "3.7.7"
  }
 },
 "nbformat": 4,
 "nbformat_minor": 4
}
